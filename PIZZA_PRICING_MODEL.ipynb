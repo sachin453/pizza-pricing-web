{
 "cells": [
  {
   "cell_type": "code",
   "execution_count": 1,
   "id": "4b7d4e1e",
   "metadata": {},
   "outputs": [],
   "source": [
    "import pandas as pd\n",
    "import numpy as np\n",
    "import matplotlib.pyplot as plt\n",
    "import tensorflow as tf"
   ]
  },
  {
   "cell_type": "code",
   "execution_count": 2,
   "id": "6da08743",
   "metadata": {},
   "outputs": [],
   "source": [
    "df=pd.read_csv('pizza_data.csv')\n",
    "df2=df.copy()"
   ]
  },
  {
   "cell_type": "code",
   "execution_count": 3,
   "id": "0595cfec",
   "metadata": {},
   "outputs": [
    {
     "data": {
      "text/html": [
       "<div>\n",
       "<style scoped>\n",
       "    .dataframe tbody tr th:only-of-type {\n",
       "        vertical-align: middle;\n",
       "    }\n",
       "\n",
       "    .dataframe tbody tr th {\n",
       "        vertical-align: top;\n",
       "    }\n",
       "\n",
       "    .dataframe thead th {\n",
       "        text-align: right;\n",
       "    }\n",
       "</style>\n",
       "<table border=\"1\" class=\"dataframe\">\n",
       "  <thead>\n",
       "    <tr style=\"text-align: right;\">\n",
       "      <th></th>\n",
       "      <th>Company</th>\n",
       "      <th>Pizza Name</th>\n",
       "      <th>Type</th>\n",
       "      <th>Size</th>\n",
       "      <th>Price</th>\n",
       "    </tr>\n",
       "  </thead>\n",
       "  <tbody>\n",
       "    <tr>\n",
       "      <th>0</th>\n",
       "      <td>Domino's Pizza</td>\n",
       "      <td>Hand Tossed</td>\n",
       "      <td>Cheeses Pizza</td>\n",
       "      <td>Small (10\")</td>\n",
       "      <td>$5.99</td>\n",
       "    </tr>\n",
       "    <tr>\n",
       "      <th>1</th>\n",
       "      <td>Domino's Pizza</td>\n",
       "      <td>Hand Tossed</td>\n",
       "      <td>Cheeses Pizza</td>\n",
       "      <td>Medium (12\")</td>\n",
       "      <td>$7.99</td>\n",
       "    </tr>\n",
       "    <tr>\n",
       "      <th>2</th>\n",
       "      <td>Domino's Pizza</td>\n",
       "      <td>Hand Tossed</td>\n",
       "      <td>Cheeses Pizza</td>\n",
       "      <td>Large (14\")</td>\n",
       "      <td>$9.99</td>\n",
       "    </tr>\n",
       "    <tr>\n",
       "      <th>3</th>\n",
       "      <td>Domino's Pizza</td>\n",
       "      <td>Handmade Pan</td>\n",
       "      <td>Cheeses Pizza</td>\n",
       "      <td>Medium (12\")</td>\n",
       "      <td>$7.99</td>\n",
       "    </tr>\n",
       "    <tr>\n",
       "      <th>4</th>\n",
       "      <td>Domino's Pizza</td>\n",
       "      <td>Crunchy Thin Crust</td>\n",
       "      <td>Cheeses Pizza</td>\n",
       "      <td>Small (10\")</td>\n",
       "      <td>$5.99</td>\n",
       "    </tr>\n",
       "  </tbody>\n",
       "</table>\n",
       "</div>"
      ],
      "text/plain": [
       "          Company          Pizza Name           Type          Size  Price\n",
       "0  Domino's Pizza         Hand Tossed  Cheeses Pizza   Small (10\")  $5.99\n",
       "1  Domino's Pizza         Hand Tossed  Cheeses Pizza  Medium (12\")  $7.99\n",
       "2  Domino's Pizza         Hand Tossed  Cheeses Pizza   Large (14\")  $9.99\n",
       "3  Domino's Pizza        Handmade Pan  Cheeses Pizza  Medium (12\")  $7.99\n",
       "4  Domino's Pizza  Crunchy Thin Crust  Cheeses Pizza   Small (10\")  $5.99"
      ]
     },
     "execution_count": 3,
     "metadata": {},
     "output_type": "execute_result"
    }
   ],
   "source": [
    "df.head()"
   ]
  },
  {
   "cell_type": "code",
   "execution_count": 4,
   "id": "a33ad88a",
   "metadata": {},
   "outputs": [],
   "source": [
    "df.columns=['pizza_company','pizza_name','pizza_type','pizza_size','pizza_price']"
   ]
  },
  {
   "cell_type": "code",
   "execution_count": 5,
   "id": "ff21564c",
   "metadata": {},
   "outputs": [
    {
     "data": {
      "text/html": [
       "<div>\n",
       "<style scoped>\n",
       "    .dataframe tbody tr th:only-of-type {\n",
       "        vertical-align: middle;\n",
       "    }\n",
       "\n",
       "    .dataframe tbody tr th {\n",
       "        vertical-align: top;\n",
       "    }\n",
       "\n",
       "    .dataframe thead th {\n",
       "        text-align: right;\n",
       "    }\n",
       "</style>\n",
       "<table border=\"1\" class=\"dataframe\">\n",
       "  <thead>\n",
       "    <tr style=\"text-align: right;\">\n",
       "      <th></th>\n",
       "      <th>pizza_company</th>\n",
       "      <th>pizza_name</th>\n",
       "      <th>pizza_type</th>\n",
       "      <th>pizza_size</th>\n",
       "      <th>pizza_price</th>\n",
       "    </tr>\n",
       "  </thead>\n",
       "  <tbody>\n",
       "    <tr>\n",
       "      <th>0</th>\n",
       "      <td>Domino's Pizza</td>\n",
       "      <td>Hand Tossed</td>\n",
       "      <td>Cheeses Pizza</td>\n",
       "      <td>Small (10\")</td>\n",
       "      <td>$5.99</td>\n",
       "    </tr>\n",
       "    <tr>\n",
       "      <th>1</th>\n",
       "      <td>Domino's Pizza</td>\n",
       "      <td>Hand Tossed</td>\n",
       "      <td>Cheeses Pizza</td>\n",
       "      <td>Medium (12\")</td>\n",
       "      <td>$7.99</td>\n",
       "    </tr>\n",
       "    <tr>\n",
       "      <th>2</th>\n",
       "      <td>Domino's Pizza</td>\n",
       "      <td>Hand Tossed</td>\n",
       "      <td>Cheeses Pizza</td>\n",
       "      <td>Large (14\")</td>\n",
       "      <td>$9.99</td>\n",
       "    </tr>\n",
       "    <tr>\n",
       "      <th>3</th>\n",
       "      <td>Domino's Pizza</td>\n",
       "      <td>Handmade Pan</td>\n",
       "      <td>Cheeses Pizza</td>\n",
       "      <td>Medium (12\")</td>\n",
       "      <td>$7.99</td>\n",
       "    </tr>\n",
       "    <tr>\n",
       "      <th>4</th>\n",
       "      <td>Domino's Pizza</td>\n",
       "      <td>Crunchy Thin Crust</td>\n",
       "      <td>Cheeses Pizza</td>\n",
       "      <td>Small (10\")</td>\n",
       "      <td>$5.99</td>\n",
       "    </tr>\n",
       "    <tr>\n",
       "      <th>...</th>\n",
       "      <td>...</td>\n",
       "      <td>...</td>\n",
       "      <td>...</td>\n",
       "      <td>...</td>\n",
       "      <td>...</td>\n",
       "    </tr>\n",
       "    <tr>\n",
       "      <th>366</th>\n",
       "      <td>IMO's Pizza</td>\n",
       "      <td>BBQ Chicken Pizza</td>\n",
       "      <td>Specialty Pizzas</td>\n",
       "      <td>X Large (16\")</td>\n",
       "      <td>$23.85</td>\n",
       "    </tr>\n",
       "    <tr>\n",
       "      <th>367</th>\n",
       "      <td>IMO's Pizza</td>\n",
       "      <td>Egg-Ceptional Pizza</td>\n",
       "      <td>Specialty Pizzas</td>\n",
       "      <td>Small (10\")</td>\n",
       "      <td>$11.80</td>\n",
       "    </tr>\n",
       "    <tr>\n",
       "      <th>368</th>\n",
       "      <td>IMO's Pizza</td>\n",
       "      <td>Egg-Ceptional Pizza</td>\n",
       "      <td>Specialty Pizzas</td>\n",
       "      <td>Medium (12\")</td>\n",
       "      <td>$14.95</td>\n",
       "    </tr>\n",
       "    <tr>\n",
       "      <th>369</th>\n",
       "      <td>IMO's Pizza</td>\n",
       "      <td>Egg-Ceptional Pizza</td>\n",
       "      <td>Specialty Pizzas</td>\n",
       "      <td>Large (14\")</td>\n",
       "      <td>$18.65</td>\n",
       "    </tr>\n",
       "    <tr>\n",
       "      <th>370</th>\n",
       "      <td>IMO's Pizza</td>\n",
       "      <td>Egg-Ceptional Pizza</td>\n",
       "      <td>Specialty Pizzas</td>\n",
       "      <td>X Large (16\")</td>\n",
       "      <td>$22.30</td>\n",
       "    </tr>\n",
       "  </tbody>\n",
       "</table>\n",
       "<p>371 rows × 5 columns</p>\n",
       "</div>"
      ],
      "text/plain": [
       "      pizza_company           pizza_name        pizza_type     pizza_size  \\\n",
       "0    Domino's Pizza          Hand Tossed     Cheeses Pizza    Small (10\")   \n",
       "1    Domino's Pizza          Hand Tossed     Cheeses Pizza   Medium (12\")   \n",
       "2    Domino's Pizza          Hand Tossed     Cheeses Pizza    Large (14\")   \n",
       "3    Domino's Pizza         Handmade Pan     Cheeses Pizza   Medium (12\")   \n",
       "4    Domino's Pizza   Crunchy Thin Crust     Cheeses Pizza    Small (10\")   \n",
       "..              ...                  ...               ...            ...   \n",
       "366     IMO's Pizza    BBQ Chicken Pizza  Specialty Pizzas  X Large (16\")   \n",
       "367     IMO's Pizza  Egg-Ceptional Pizza  Specialty Pizzas    Small (10\")   \n",
       "368     IMO's Pizza  Egg-Ceptional Pizza  Specialty Pizzas   Medium (12\")   \n",
       "369     IMO's Pizza  Egg-Ceptional Pizza  Specialty Pizzas    Large (14\")   \n",
       "370     IMO's Pizza  Egg-Ceptional Pizza  Specialty Pizzas  X Large (16\")   \n",
       "\n",
       "    pizza_price  \n",
       "0         $5.99  \n",
       "1         $7.99  \n",
       "2         $9.99  \n",
       "3         $7.99  \n",
       "4         $5.99  \n",
       "..          ...  \n",
       "366      $23.85  \n",
       "367      $11.80  \n",
       "368      $14.95  \n",
       "369      $18.65  \n",
       "370      $22.30  \n",
       "\n",
       "[371 rows x 5 columns]"
      ]
     },
     "execution_count": 5,
     "metadata": {},
     "output_type": "execute_result"
    }
   ],
   "source": [
    "df"
   ]
  },
  {
   "cell_type": "code",
   "execution_count": 6,
   "id": "b3c085bf",
   "metadata": {},
   "outputs": [
    {
     "data": {
      "text/plain": [
       "Large            111\n",
       "Medium            84\n",
       "Small (10\")       39\n",
       "Medium (12\")      27\n",
       "Large (14\")       24\n",
       "Small             20\n",
       "Jumbo             18\n",
       "X-Large (16\")     16\n",
       "Mini              14\n",
       "Personal          12\n",
       "X Large (16\")      6\n",
       "Name: pizza_size, dtype: int64"
      ]
     },
     "execution_count": 6,
     "metadata": {},
     "output_type": "execute_result"
    }
   ],
   "source": [
    "df.pizza_size.value_counts()"
   ]
  },
  {
   "cell_type": "code",
   "execution_count": 7,
   "id": "eecccf0d",
   "metadata": {},
   "outputs": [],
   "source": [
    "from sklearn import preprocessing\n",
    "from sklearn.preprocessing import LabelEncoder"
   ]
  },
  {
   "cell_type": "code",
   "execution_count": 8,
   "id": "84bbe016",
   "metadata": {},
   "outputs": [],
   "source": [
    "LE1=LabelEncoder()\n",
    "df.pizza_company=LE1.fit_transform(df.pizza_company)\n",
    "LE2=LabelEncoder()\n",
    "df.pizza_name=LE2.fit_transform(df.pizza_name)\n",
    "LE3=LabelEncoder()\n",
    "df.pizza_type=LE3.fit_transform(df.pizza_type)\n",
    "LE4=LabelEncoder()\n",
    "df.pizza_size=LE4.fit_transform(df.pizza_size)\n",
    "LE5=LabelEncoder()\n",
    "df.pizza_price=LE5.fit_transform(df.pizza_price)"
   ]
  },
  {
   "cell_type": "code",
   "execution_count": 9,
   "id": "2761e4f5",
   "metadata": {},
   "outputs": [
    {
     "data": {
      "text/plain": [
       "1    133\n",
       "3    126\n",
       "0     88\n",
       "2     24\n",
       "Name: pizza_company, dtype: int64"
      ]
     },
     "execution_count": 9,
     "metadata": {},
     "output_type": "execute_result"
    }
   ],
   "source": [
    "df.pizza_company.value_counts()"
   ]
  },
  {
   "cell_type": "code",
   "execution_count": 10,
   "id": "0458e2f4",
   "metadata": {},
   "outputs": [
    {
     "data": {
      "text/html": [
       "<div>\n",
       "<style scoped>\n",
       "    .dataframe tbody tr th:only-of-type {\n",
       "        vertical-align: middle;\n",
       "    }\n",
       "\n",
       "    .dataframe tbody tr th {\n",
       "        vertical-align: top;\n",
       "    }\n",
       "\n",
       "    .dataframe thead th {\n",
       "        text-align: right;\n",
       "    }\n",
       "</style>\n",
       "<table border=\"1\" class=\"dataframe\">\n",
       "  <thead>\n",
       "    <tr style=\"text-align: right;\">\n",
       "      <th></th>\n",
       "      <th>pizza_company</th>\n",
       "      <th>pizza_name</th>\n",
       "      <th>pizza_type</th>\n",
       "      <th>pizza_size</th>\n",
       "      <th>pizza_price</th>\n",
       "    </tr>\n",
       "  </thead>\n",
       "  <tbody>\n",
       "    <tr>\n",
       "      <th>0</th>\n",
       "      <td>0</td>\n",
       "      <td>96</td>\n",
       "      <td>1</td>\n",
       "      <td>8</td>\n",
       "      <td>50</td>\n",
       "    </tr>\n",
       "    <tr>\n",
       "      <th>1</th>\n",
       "      <td>0</td>\n",
       "      <td>96</td>\n",
       "      <td>1</td>\n",
       "      <td>4</td>\n",
       "      <td>51</td>\n",
       "    </tr>\n",
       "    <tr>\n",
       "      <th>2</th>\n",
       "      <td>0</td>\n",
       "      <td>96</td>\n",
       "      <td>1</td>\n",
       "      <td>2</td>\n",
       "      <td>55</td>\n",
       "    </tr>\n",
       "    <tr>\n",
       "      <th>3</th>\n",
       "      <td>0</td>\n",
       "      <td>98</td>\n",
       "      <td>1</td>\n",
       "      <td>4</td>\n",
       "      <td>51</td>\n",
       "    </tr>\n",
       "    <tr>\n",
       "      <th>4</th>\n",
       "      <td>0</td>\n",
       "      <td>75</td>\n",
       "      <td>1</td>\n",
       "      <td>8</td>\n",
       "      <td>50</td>\n",
       "    </tr>\n",
       "    <tr>\n",
       "      <th>...</th>\n",
       "      <td>...</td>\n",
       "      <td>...</td>\n",
       "      <td>...</td>\n",
       "      <td>...</td>\n",
       "      <td>...</td>\n",
       "    </tr>\n",
       "    <tr>\n",
       "      <th>366</th>\n",
       "      <td>2</td>\n",
       "      <td>15</td>\n",
       "      <td>8</td>\n",
       "      <td>9</td>\n",
       "      <td>37</td>\n",
       "    </tr>\n",
       "    <tr>\n",
       "      <th>367</th>\n",
       "      <td>2</td>\n",
       "      <td>82</td>\n",
       "      <td>8</td>\n",
       "      <td>8</td>\n",
       "      <td>3</td>\n",
       "    </tr>\n",
       "    <tr>\n",
       "      <th>368</th>\n",
       "      <td>2</td>\n",
       "      <td>82</td>\n",
       "      <td>8</td>\n",
       "      <td>4</td>\n",
       "      <td>12</td>\n",
       "    </tr>\n",
       "    <tr>\n",
       "      <th>369</th>\n",
       "      <td>2</td>\n",
       "      <td>82</td>\n",
       "      <td>8</td>\n",
       "      <td>2</td>\n",
       "      <td>25</td>\n",
       "    </tr>\n",
       "    <tr>\n",
       "      <th>370</th>\n",
       "      <td>2</td>\n",
       "      <td>82</td>\n",
       "      <td>8</td>\n",
       "      <td>9</td>\n",
       "      <td>35</td>\n",
       "    </tr>\n",
       "  </tbody>\n",
       "</table>\n",
       "<p>371 rows × 5 columns</p>\n",
       "</div>"
      ],
      "text/plain": [
       "     pizza_company  pizza_name  pizza_type  pizza_size  pizza_price\n",
       "0                0          96           1           8           50\n",
       "1                0          96           1           4           51\n",
       "2                0          96           1           2           55\n",
       "3                0          98           1           4           51\n",
       "4                0          75           1           8           50\n",
       "..             ...         ...         ...         ...          ...\n",
       "366              2          15           8           9           37\n",
       "367              2          82           8           8            3\n",
       "368              2          82           8           4           12\n",
       "369              2          82           8           2           25\n",
       "370              2          82           8           9           35\n",
       "\n",
       "[371 rows x 5 columns]"
      ]
     },
     "execution_count": 10,
     "metadata": {},
     "output_type": "execute_result"
    }
   ],
   "source": [
    "df"
   ]
  },
  {
   "cell_type": "code",
   "execution_count": 11,
   "id": "1cbef05f",
   "metadata": {},
   "outputs": [],
   "source": [
    "from sklearn.tree import DecisionTreeClassifier\n",
    "DT_classifier=DecisionTreeClassifier()"
   ]
  },
  {
   "cell_type": "code",
   "execution_count": 12,
   "id": "2fefb7ba",
   "metadata": {},
   "outputs": [],
   "source": [
    "X=np.array(df.drop(['pizza_price'],axis=1))\n",
    "y=np.array(df.pizza_price)"
   ]
  },
  {
   "cell_type": "code",
   "execution_count": 13,
   "id": "48226b13",
   "metadata": {},
   "outputs": [
    {
     "data": {
      "text/html": [
       "<style>#sk-container-id-1 {color: black;background-color: white;}#sk-container-id-1 pre{padding: 0;}#sk-container-id-1 div.sk-toggleable {background-color: white;}#sk-container-id-1 label.sk-toggleable__label {cursor: pointer;display: block;width: 100%;margin-bottom: 0;padding: 0.3em;box-sizing: border-box;text-align: center;}#sk-container-id-1 label.sk-toggleable__label-arrow:before {content: \"▸\";float: left;margin-right: 0.25em;color: #696969;}#sk-container-id-1 label.sk-toggleable__label-arrow:hover:before {color: black;}#sk-container-id-1 div.sk-estimator:hover label.sk-toggleable__label-arrow:before {color: black;}#sk-container-id-1 div.sk-toggleable__content {max-height: 0;max-width: 0;overflow: hidden;text-align: left;background-color: #f0f8ff;}#sk-container-id-1 div.sk-toggleable__content pre {margin: 0.2em;color: black;border-radius: 0.25em;background-color: #f0f8ff;}#sk-container-id-1 input.sk-toggleable__control:checked~div.sk-toggleable__content {max-height: 200px;max-width: 100%;overflow: auto;}#sk-container-id-1 input.sk-toggleable__control:checked~label.sk-toggleable__label-arrow:before {content: \"▾\";}#sk-container-id-1 div.sk-estimator input.sk-toggleable__control:checked~label.sk-toggleable__label {background-color: #d4ebff;}#sk-container-id-1 div.sk-label input.sk-toggleable__control:checked~label.sk-toggleable__label {background-color: #d4ebff;}#sk-container-id-1 input.sk-hidden--visually {border: 0;clip: rect(1px 1px 1px 1px);clip: rect(1px, 1px, 1px, 1px);height: 1px;margin: -1px;overflow: hidden;padding: 0;position: absolute;width: 1px;}#sk-container-id-1 div.sk-estimator {font-family: monospace;background-color: #f0f8ff;border: 1px dotted black;border-radius: 0.25em;box-sizing: border-box;margin-bottom: 0.5em;}#sk-container-id-1 div.sk-estimator:hover {background-color: #d4ebff;}#sk-container-id-1 div.sk-parallel-item::after {content: \"\";width: 100%;border-bottom: 1px solid gray;flex-grow: 1;}#sk-container-id-1 div.sk-label:hover label.sk-toggleable__label {background-color: #d4ebff;}#sk-container-id-1 div.sk-serial::before {content: \"\";position: absolute;border-left: 1px solid gray;box-sizing: border-box;top: 0;bottom: 0;left: 50%;z-index: 0;}#sk-container-id-1 div.sk-serial {display: flex;flex-direction: column;align-items: center;background-color: white;padding-right: 0.2em;padding-left: 0.2em;position: relative;}#sk-container-id-1 div.sk-item {position: relative;z-index: 1;}#sk-container-id-1 div.sk-parallel {display: flex;align-items: stretch;justify-content: center;background-color: white;position: relative;}#sk-container-id-1 div.sk-item::before, #sk-container-id-1 div.sk-parallel-item::before {content: \"\";position: absolute;border-left: 1px solid gray;box-sizing: border-box;top: 0;bottom: 0;left: 50%;z-index: -1;}#sk-container-id-1 div.sk-parallel-item {display: flex;flex-direction: column;z-index: 1;position: relative;background-color: white;}#sk-container-id-1 div.sk-parallel-item:first-child::after {align-self: flex-end;width: 50%;}#sk-container-id-1 div.sk-parallel-item:last-child::after {align-self: flex-start;width: 50%;}#sk-container-id-1 div.sk-parallel-item:only-child::after {width: 0;}#sk-container-id-1 div.sk-dashed-wrapped {border: 1px dashed gray;margin: 0 0.4em 0.5em 0.4em;box-sizing: border-box;padding-bottom: 0.4em;background-color: white;}#sk-container-id-1 div.sk-label label {font-family: monospace;font-weight: bold;display: inline-block;line-height: 1.2em;}#sk-container-id-1 div.sk-label-container {text-align: center;}#sk-container-id-1 div.sk-container {/* jupyter's `normalize.less` sets `[hidden] { display: none; }` but bootstrap.min.css set `[hidden] { display: none !important; }` so we also need the `!important` here to be able to override the default hidden behavior on the sphinx rendered scikit-learn.org. See: https://github.com/scikit-learn/scikit-learn/issues/21755 */display: inline-block !important;position: relative;}#sk-container-id-1 div.sk-text-repr-fallback {display: none;}</style><div id=\"sk-container-id-1\" class=\"sk-top-container\"><div class=\"sk-text-repr-fallback\"><pre>DecisionTreeClassifier()</pre><b>In a Jupyter environment, please rerun this cell to show the HTML representation or trust the notebook. <br />On GitHub, the HTML representation is unable to render, please try loading this page with nbviewer.org.</b></div><div class=\"sk-container\" hidden><div class=\"sk-item\"><div class=\"sk-estimator sk-toggleable\"><input class=\"sk-toggleable__control sk-hidden--visually\" id=\"sk-estimator-id-1\" type=\"checkbox\" checked><label for=\"sk-estimator-id-1\" class=\"sk-toggleable__label sk-toggleable__label-arrow\">DecisionTreeClassifier</label><div class=\"sk-toggleable__content\"><pre>DecisionTreeClassifier()</pre></div></div></div></div></div>"
      ],
      "text/plain": [
       "DecisionTreeClassifier()"
      ]
     },
     "execution_count": 13,
     "metadata": {},
     "output_type": "execute_result"
    }
   ],
   "source": [
    "DT_classifier.fit(X,y)"
   ]
  },
  {
   "cell_type": "code",
   "execution_count": 14,
   "id": "f451c49d",
   "metadata": {},
   "outputs": [
    {
     "data": {
      "text/plain": [
       "array(['$10.49', '$10.99', '$11.60', '$11.80', '$11.99', '$12.49',\n",
       "       '$12.69', '$12.70', '$12.99', '$13.49', '$13.99', '$14.45',\n",
       "       '$14.95', '$14.99', '$15.24', '$15.34', '$15.49', '$15.99',\n",
       "       '$16.20', '$16.49', '$16.99', '$17.35', '$17.49', '$17.99',\n",
       "       '$18.49', '$18.65', '$18.69', '$18.74', '$18.99', '$19.20',\n",
       "       '$19.95', '$19.99', '$20.99', '$21.99', '$22.24', '$22.30',\n",
       "       '$22.49', '$23.85', '$23.99', '$24.99', '$25.99', '$26.23',\n",
       "       '$26.49', '$27.99', '$28.99', '$29.99', '$4.29', '$4.79', '$4.99',\n",
       "       '$5.29', '$5.99', '$7.99', '$8.49', '$8.99', '$9.30', '$9.99'],\n",
       "      dtype=object)"
      ]
     },
     "execution_count": 14,
     "metadata": {},
     "output_type": "execute_result"
    }
   ],
   "source": [
    "LE5.classes_"
   ]
  },
  {
   "cell_type": "code",
   "execution_count": 15,
   "id": "664218be",
   "metadata": {},
   "outputs": [
    {
     "data": {
      "text/plain": [
       "array([50, 51, 55, 51, 50, 51, 55, 55,  4, 53,  4, 10, 17, 23, 13,  4, 10,\n",
       "       17, 23, 13,  4, 10, 17, 23, 13,  4, 10, 17, 23, 13,  4, 10, 17, 23,\n",
       "       13,  4, 10, 17, 23, 13,  4, 10, 17, 23, 13,  4, 10, 17, 23, 13,  4,\n",
       "       10, 17, 23, 13,  4, 10, 16, 17, 23, 13,  4, 10, 16, 17, 23, 13,  4,\n",
       "       10, 16, 17, 23, 13,  4, 10, 17, 23, 13,  4, 10, 17, 23, 13,  4, 10,\n",
       "       17, 23, 13, 52,  0, 46, 52,  0, 52,  0,  5,  0,  5, 16, 47,  5, 16,\n",
       "        5, 16, 22, 16,  5, 16, 47,  5, 16,  5, 16, 22, 16,  5, 16, 47,  5,\n",
       "       16,  5, 16, 22, 16,  5, 16, 47,  5, 16,  5, 16, 22, 16,  5, 16, 47,\n",
       "        5, 16,  5, 16, 22, 16,  5, 16, 47,  5, 16,  5, 16, 22, 16,  9, 19,\n",
       "       49,  9, 19,  9, 19, 24, 19,  5, 16, 47,  5, 16,  5, 16, 22, 16,  5,\n",
       "       16, 47,  5, 16,  5, 16, 22, 16,  9, 19, 49,  9, 19,  9, 19, 24, 19,\n",
       "        5, 16, 47,  5, 16,  5, 16,  5, 16,  5, 16,  5, 16,  5, 16,  5, 16,\n",
       "        5, 16,  5, 16, 16, 16, 16, 16, 16, 55, 48,  1,  8,  9, 17, 19, 28,\n",
       "       50, 17, 31, 34, 38, 43, 50, 17, 31, 34, 38, 41, 43, 50, 17, 31, 34,\n",
       "       38, 41, 43, 50, 17, 31, 34, 38, 41, 43, 50, 17, 31, 34, 38, 41, 43,\n",
       "       50, 17, 31, 34, 38, 41, 43, 50, 17, 31, 34, 38, 41, 43, 50, 17, 31,\n",
       "       34, 38, 41, 43, 50, 17, 31, 34, 38, 41, 43, 50, 17, 31, 34, 38, 41,\n",
       "       43, 20, 33, 36, 40, 42, 45, 20, 33, 36, 40, 42, 45, 20, 33, 36, 40,\n",
       "       42, 45, 20, 33, 36, 40, 42, 45, 17, 32, 36, 39, 42, 44, 50, 17, 31,\n",
       "       34, 38, 41, 43, 50, 17, 31, 34, 38, 41, 43, 55, 10,  4, 17, 31, 38,\n",
       "       48,  6, 15, 14, 26, 27, 33,  7, 18, 30, 37,  7, 18, 30, 37, 54,  2,\n",
       "       11, 21,  7, 18, 30, 37,  7, 18, 29, 37,  3, 12, 25, 35])"
      ]
     },
     "execution_count": 15,
     "metadata": {},
     "output_type": "execute_result"
    }
   ],
   "source": [
    "DT_classifier.predict(X)"
   ]
  },
  {
   "cell_type": "code",
   "execution_count": 16,
   "id": "82a71fb2",
   "metadata": {},
   "outputs": [],
   "source": [
    "def tell_me_price(pizza_company,pizza_name,pizza_type,pizza_size):\n",
    "    v1=LE1.classes_\n",
    "    v2=LE2.classes_\n",
    "    v3=LE3.classes_\n",
    "    v4=LE4.classes_\n",
    "    ind1=np.where(v1==pizza_company)[0]\n",
    "    ind2=np.where(v2==pizza_name)[0]\n",
    "    ind3=np.where(v3==pizza_type)[0]\n",
    "    ind4=np.where(v4==pizza_size)[0]\n",
    "    v= (ind1,ind2,ind3,ind4)\n",
    "    price_index=DT_classifier.predict([np.array([v[0][0],v[1][0],v[2][0],v[3][0]])])\n",
    "    prices=LE5.classes_\n",
    "    return (prices[price_index][0])"
   ]
  },
  {
   "cell_type": "code",
   "execution_count": 17,
   "id": "4a82d8f8",
   "metadata": {},
   "outputs": [
    {
     "data": {
      "text/plain": [
       "'$23.85'"
      ]
     },
     "execution_count": 17,
     "metadata": {},
     "output_type": "execute_result"
    }
   ],
   "source": [
    "tell_me_price(\"IMO's Pizza\",\"BBQ Chicken Pizza\",\"Specialty Pizzas\",'X Large (16\")')"
   ]
  },
  {
   "cell_type": "code",
   "execution_count": 18,
   "id": "ccc42a50",
   "metadata": {},
   "outputs": [
    {
     "data": {
      "text/html": [
       "<div>\n",
       "<style scoped>\n",
       "    .dataframe tbody tr th:only-of-type {\n",
       "        vertical-align: middle;\n",
       "    }\n",
       "\n",
       "    .dataframe tbody tr th {\n",
       "        vertical-align: top;\n",
       "    }\n",
       "\n",
       "    .dataframe thead th {\n",
       "        text-align: right;\n",
       "    }\n",
       "</style>\n",
       "<table border=\"1\" class=\"dataframe\">\n",
       "  <thead>\n",
       "    <tr style=\"text-align: right;\">\n",
       "      <th></th>\n",
       "      <th>Company</th>\n",
       "      <th>Pizza Name</th>\n",
       "      <th>Type</th>\n",
       "      <th>Size</th>\n",
       "      <th>Price</th>\n",
       "    </tr>\n",
       "  </thead>\n",
       "  <tbody>\n",
       "    <tr>\n",
       "      <th>0</th>\n",
       "      <td>Domino's Pizza</td>\n",
       "      <td>Hand Tossed</td>\n",
       "      <td>Cheeses Pizza</td>\n",
       "      <td>Small (10\")</td>\n",
       "      <td>$5.99</td>\n",
       "    </tr>\n",
       "    <tr>\n",
       "      <th>1</th>\n",
       "      <td>Domino's Pizza</td>\n",
       "      <td>Hand Tossed</td>\n",
       "      <td>Cheeses Pizza</td>\n",
       "      <td>Medium (12\")</td>\n",
       "      <td>$7.99</td>\n",
       "    </tr>\n",
       "    <tr>\n",
       "      <th>2</th>\n",
       "      <td>Domino's Pizza</td>\n",
       "      <td>Hand Tossed</td>\n",
       "      <td>Cheeses Pizza</td>\n",
       "      <td>Large (14\")</td>\n",
       "      <td>$9.99</td>\n",
       "    </tr>\n",
       "    <tr>\n",
       "      <th>3</th>\n",
       "      <td>Domino's Pizza</td>\n",
       "      <td>Handmade Pan</td>\n",
       "      <td>Cheeses Pizza</td>\n",
       "      <td>Medium (12\")</td>\n",
       "      <td>$7.99</td>\n",
       "    </tr>\n",
       "    <tr>\n",
       "      <th>4</th>\n",
       "      <td>Domino's Pizza</td>\n",
       "      <td>Crunchy Thin Crust</td>\n",
       "      <td>Cheeses Pizza</td>\n",
       "      <td>Small (10\")</td>\n",
       "      <td>$5.99</td>\n",
       "    </tr>\n",
       "    <tr>\n",
       "      <th>...</th>\n",
       "      <td>...</td>\n",
       "      <td>...</td>\n",
       "      <td>...</td>\n",
       "      <td>...</td>\n",
       "      <td>...</td>\n",
       "    </tr>\n",
       "    <tr>\n",
       "      <th>366</th>\n",
       "      <td>IMO's Pizza</td>\n",
       "      <td>BBQ Chicken Pizza</td>\n",
       "      <td>Specialty Pizzas</td>\n",
       "      <td>X Large (16\")</td>\n",
       "      <td>$23.85</td>\n",
       "    </tr>\n",
       "    <tr>\n",
       "      <th>367</th>\n",
       "      <td>IMO's Pizza</td>\n",
       "      <td>Egg-Ceptional Pizza</td>\n",
       "      <td>Specialty Pizzas</td>\n",
       "      <td>Small (10\")</td>\n",
       "      <td>$11.80</td>\n",
       "    </tr>\n",
       "    <tr>\n",
       "      <th>368</th>\n",
       "      <td>IMO's Pizza</td>\n",
       "      <td>Egg-Ceptional Pizza</td>\n",
       "      <td>Specialty Pizzas</td>\n",
       "      <td>Medium (12\")</td>\n",
       "      <td>$14.95</td>\n",
       "    </tr>\n",
       "    <tr>\n",
       "      <th>369</th>\n",
       "      <td>IMO's Pizza</td>\n",
       "      <td>Egg-Ceptional Pizza</td>\n",
       "      <td>Specialty Pizzas</td>\n",
       "      <td>Large (14\")</td>\n",
       "      <td>$18.65</td>\n",
       "    </tr>\n",
       "    <tr>\n",
       "      <th>370</th>\n",
       "      <td>IMO's Pizza</td>\n",
       "      <td>Egg-Ceptional Pizza</td>\n",
       "      <td>Specialty Pizzas</td>\n",
       "      <td>X Large (16\")</td>\n",
       "      <td>$22.30</td>\n",
       "    </tr>\n",
       "  </tbody>\n",
       "</table>\n",
       "<p>371 rows × 5 columns</p>\n",
       "</div>"
      ],
      "text/plain": [
       "            Company           Pizza Name              Type           Size  \\\n",
       "0    Domino's Pizza          Hand Tossed     Cheeses Pizza    Small (10\")   \n",
       "1    Domino's Pizza          Hand Tossed     Cheeses Pizza   Medium (12\")   \n",
       "2    Domino's Pizza          Hand Tossed     Cheeses Pizza    Large (14\")   \n",
       "3    Domino's Pizza         Handmade Pan     Cheeses Pizza   Medium (12\")   \n",
       "4    Domino's Pizza   Crunchy Thin Crust     Cheeses Pizza    Small (10\")   \n",
       "..              ...                  ...               ...            ...   \n",
       "366     IMO's Pizza    BBQ Chicken Pizza  Specialty Pizzas  X Large (16\")   \n",
       "367     IMO's Pizza  Egg-Ceptional Pizza  Specialty Pizzas    Small (10\")   \n",
       "368     IMO's Pizza  Egg-Ceptional Pizza  Specialty Pizzas   Medium (12\")   \n",
       "369     IMO's Pizza  Egg-Ceptional Pizza  Specialty Pizzas    Large (14\")   \n",
       "370     IMO's Pizza  Egg-Ceptional Pizza  Specialty Pizzas  X Large (16\")   \n",
       "\n",
       "      Price  \n",
       "0     $5.99  \n",
       "1     $7.99  \n",
       "2     $9.99  \n",
       "3     $7.99  \n",
       "4     $5.99  \n",
       "..      ...  \n",
       "366  $23.85  \n",
       "367  $11.80  \n",
       "368  $14.95  \n",
       "369  $18.65  \n",
       "370  $22.30  \n",
       "\n",
       "[371 rows x 5 columns]"
      ]
     },
     "execution_count": 18,
     "metadata": {},
     "output_type": "execute_result"
    }
   ],
   "source": [
    "df2"
   ]
  },
  {
   "cell_type": "code",
   "execution_count": 33,
   "id": "d3591b9c",
   "metadata": {},
   "outputs": [],
   "source": [
    "v=df2['Type'].value_counts()"
   ]
  },
  {
   "cell_type": "code",
   "execution_count": 34,
   "id": "d3719703",
   "metadata": {},
   "outputs": [
    {
     "name": "stdout",
     "output_type": "stream",
     "text": [
      "Specialty Pizzas ,\n",
      "Classic Recipe Pizzas ,\n",
      "Feast Pizzas ,\n",
      "New Recipe Pizzas ,\n",
      "Cheese Pizza ,\n",
      "Cheeses Pizza ,\n",
      "Express Favorites ,\n",
      "Skinny Pizzas ,\n",
      "Gluten-Free Pizzas ,\n"
     ]
    }
   ],
   "source": [
    "for x in v.index:\n",
    "    print(x,',')"
   ]
  }
 ],
 "metadata": {
  "kernelspec": {
   "display_name": "Python 3 (ipykernel)",
   "language": "python",
   "name": "python3"
  },
  "language_info": {
   "codemirror_mode": {
    "name": "ipython",
    "version": 3
   },
   "file_extension": ".py",
   "mimetype": "text/x-python",
   "name": "python",
   "nbconvert_exporter": "python",
   "pygments_lexer": "ipython3",
   "version": "3.10.8"
  }
 },
 "nbformat": 4,
 "nbformat_minor": 5
}
